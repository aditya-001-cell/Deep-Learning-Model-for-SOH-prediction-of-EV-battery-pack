{
 "cells": [
  {
   "cell_type": "code",
   "execution_count": 10,
   "id": "71905416",
   "metadata": {},
   "outputs": [],
   "source": [
    "import pandas as pd\n",
    "import numpy as np\n",
    "import matplotlib.pyplot as plt\n",
    "import os\n",
    "import warnings\n",
    "warnings.filterwarnings(\"ignore\")"
   ]
  },
  {
   "cell_type": "code",
   "execution_count": 6,
   "id": "072839bc",
   "metadata": {},
   "outputs": [
    {
     "name": "stdout",
     "output_type": "stream",
     "text": [
      "battery  1\n"
     ]
    },
    {
     "name": "stdout",
     "output_type": "stream",
     "text": [
      "battery  2\n",
      "battery  3\n",
      "battery  4\n",
      "battery  5\n",
      "battery  6\n"
     ]
    },
    {
     "name": "stderr",
     "output_type": "stream",
     "text": [
      "C:\\Users\\apsin\\AppData\\Local\\Temp\\ipykernel_7416\\2727707921.py:33: FutureWarning: ChainedAssignmentError: behaviour will change in pandas 3.0!\n",
      "You are setting values through chained assignment. Currently this works in certain cases, but when using Copy-on-Write (which will become the default behaviour in pandas 3.0) this will never work to update the original DataFrame or Series, because the intermediate object on which we are setting values will behave as a copy.\n",
      "A typical example is when you are setting values in a column of a DataFrame, like:\n",
      "\n",
      "df[\"col\"][row_indexer] = value\n",
      "\n",
      "Use `df.loc[row_indexer, \"col\"] = values` instead, to perform the assignment in a single step and ensure this keeps updating the original `df`.\n",
      "\n",
      "See the caveats in the documentation: https://pandas.pydata.org/pandas-docs/stable/user_guide/indexing.html#returning-a-view-versus-a-copy\n",
      "\n",
      "  df['capacity'][cycle]=(df['capacity'][cycle+1]+df['capacity'][cycle-1])/2\n",
      "C:\\Users\\apsin\\AppData\\Local\\Temp\\ipykernel_7416\\2727707921.py:33: SettingWithCopyWarning: \n",
      "A value is trying to be set on a copy of a slice from a DataFrame\n",
      "\n",
      "See the caveats in the documentation: https://pandas.pydata.org/pandas-docs/stable/user_guide/indexing.html#returning-a-view-versus-a-copy\n",
      "  df['capacity'][cycle]=(df['capacity'][cycle+1]+df['capacity'][cycle-1])/2\n"
     ]
    }
   ],
   "source": [
    "#XJTU\n",
    "#..\\\\Data\\\\classification_test_data\\\\CY45-05_1-#21.csv'\n",
    "#Data\\XJTU data\n",
    "path='..\\\\Data\\\\XJTU data'\n",
    "folder=[f for f in os.listdir(path)]\n",
    "battery=[path+'\\\\'+f for f in folder]\n",
    "xjtu_data=[[],[],[],[],[],[]]\n",
    "\n",
    "all_battery_files=[]\n",
    "for i in range(len(battery)):\n",
    "    print(\"battery \",i+1)\n",
    "    folder_path=battery[i]\n",
    "    all_files=[f for f in os.listdir(folder_path)]\n",
    "    battery_data_url=[]\n",
    "    for file in all_files:\n",
    "         battery_data_url.append(file)\n",
    "    all_battery_files.append(battery_data_url)\n",
    "    battery_type=i+1\n",
    "    nominal_capacity=2.0\n",
    "    #if(i==2):\n",
    "     #   nominal_capacity=2.5\n",
    "    for file in battery_data_url:\n",
    "        df=pd.read_csv(folder_path+'/'+file)\n",
    "        if(len(df) <=50):\n",
    "            continue\n",
    "\n",
    "        df['Cycle'] = range(1, len(df) + 1)\n",
    "        for cycle in range(len(df)):\n",
    "            if(cycle == 0 or cycle == len(df)):\n",
    "                continue\n",
    "            diff=abs(df['capacity'][cycle]-df['capacity'][cycle-1])\n",
    "            if(abs(diff)>=0.1):\n",
    "                df['capacity'][cycle]=(df['capacity'][cycle+1]+df['capacity'][cycle-1])/2\n",
    "        df['SOH']=df['capacity']/nominal_capacity\n",
    "        df.drop(columns='capacity',inplace=True)\n",
    "        xjtu_data[i].append(df)"
   ]
  },
  {
   "cell_type": "code",
   "execution_count": 11,
   "id": "564bef58",
   "metadata": {},
   "outputs": [
    {
     "name": "stdout",
     "output_type": "stream",
     "text": [
      "battery  1\n",
      "battery  2\n",
      "battery  3\n"
     ]
    }
   ],
   "source": [
    "#TJU\n",
    "battery=['..\\\\Data\\\\Dataset_1_NCA_battery','..\\\\Data\\\\Dataset_2_NCM_battery','..\\\\Data\\\\Dataset_3_NCM_NCA_battery']\n",
    "battery_datasets=[]\n",
    "tju_data=[[],[],[]]\n",
    "\n",
    "all_battery_files=[]\n",
    "for i in range(len(battery)):\n",
    "    print(\"battery \",i+1)\n",
    "    folder_path=battery[i]\n",
    "    all_files=[f for f in os.listdir(folder_path)]\n",
    "    battery_data_url=[]\n",
    "    for file in all_files:\n",
    "         battery_data_url.append(file)\n",
    "    all_battery_files.append(battery_data_url)\n",
    "    battery_type=i+1\n",
    "    nominal_capacity=3.5\n",
    "    if(i==2):\n",
    "        nominal_capacity=2.5\n",
    "    for file in battery_data_url:\n",
    "        df=pd.read_csv(folder_path+'/'+file)\n",
    "        if(len(df) <=50):\n",
    "            continue\n",
    "\n",
    "        df['Cycle'] = range(1, len(df) + 1)\n",
    "        for cycle in range(len(df)):\n",
    "            if(cycle == 0 or cycle == len(df)):\n",
    "                continue\n",
    "            diff=abs(df['capacity'][cycle]-df['capacity'][cycle-1])\n",
    "            if(abs(diff)>=0.1):\n",
    "                df['capacity'][cycle]=(df['capacity'][cycle+1]+df['capacity'][cycle-1])/2\n",
    "        df['SOH']=df['capacity']/nominal_capacity\n",
    "        df.drop(columns='capacity',inplace=True)\n",
    "        tju_data[i].append(df)"
   ]
  },
  {
   "cell_type": "code",
   "execution_count": 12,
   "id": "b2894331",
   "metadata": {},
   "outputs": [
    {
     "name": "stdout",
     "output_type": "stream",
     "text": [
      "battery  1\n",
      "battery  2\n",
      "battery  3\n"
     ]
    }
   ],
   "source": [
    "#MIT\n",
    "path='..\\\\Data\\\\MIT data'\n",
    "folder=[f for f in os.listdir(path)]\n",
    "battery=[path+'\\\\'+f for f in folder]\n",
    "mit_data=[]\n",
    "\n",
    "\n",
    "all_battery_files=[]\n",
    "for i in range(len(battery)):\n",
    "    print(\"battery \",i+1)\n",
    "    folder_path=battery[i]\n",
    "    all_files=[f for f in os.listdir(folder_path)]\n",
    "    battery_data_url=[]\n",
    "    for file in all_files:\n",
    "         battery_data_url.append(file)\n",
    "    all_battery_files.append(battery_data_url)\n",
    "    battery_type=i+1\n",
    "    nominal_capacity=1.1\n",
    "    #if(i==2):\n",
    "     #   nominal_capacity=2.5\n",
    "    for file in battery_data_url:\n",
    "        df=pd.read_csv(folder_path+'/'+file)\n",
    "        if(len(df) <=50):\n",
    "            continue\n",
    "\n",
    "        df['Cycle'] = range(1, len(df) + 1)\n",
    "        for cycle in range(len(df)):\n",
    "            if(cycle == 0 or cycle == len(df)):\n",
    "                continue\n",
    "            diff=abs(df['capacity'][cycle]-df['capacity'][cycle-1])\n",
    "            if(abs(diff)>=0.1):\n",
    "                df['capacity'][cycle]=(df['capacity'][cycle+1]+df['capacity'][cycle-1])/2\n",
    "        df['SOH']=df['capacity']/nominal_capacity\n",
    "        df.drop(columns='capacity',inplace=True)\n",
    "        mit_data.append(df)"
   ]
  },
  {
   "cell_type": "code",
   "execution_count": 14,
   "id": "e64c7cb5",
   "metadata": {},
   "outputs": [
    {
     "name": "stdout",
     "output_type": "stream",
     "text": [
      "battery  1\n"
     ]
    }
   ],
   "source": [
    "#HUST\n",
    "\n",
    "path='..\\\\Data\\\\HUST data'\n",
    "#folder=[f for f in os.listdir('/content/drive/MyDrive/SOH/HUST data')]\n",
    "battery=['..\\\\Data\\\\HUST data']\n",
    "hust_data=[]\n",
    "\n",
    "\n",
    "all_battery_files=[]\n",
    "for i in range(len(battery)):\n",
    "    print(\"battery \",i+1)\n",
    "    folder_path=battery[i]\n",
    "    all_files=[f for f in os.listdir(folder_path)]\n",
    "    battery_data_url=[]\n",
    "    for file in all_files:\n",
    "         battery_data_url.append(file)\n",
    "    all_battery_files.append(battery_data_url)\n",
    "    battery_type=i+1\n",
    "    nominal_capacity=1.1\n",
    "    #if(i==2):\n",
    "     #   nominal_capacity=2.5\n",
    "    for file in battery_data_url:\n",
    "        df=pd.read_csv(folder_path+'/'+file)\n",
    "        if(len(df) <=50):\n",
    "            continue\n",
    "\n",
    "        df['Cycle'] = range(1, len(df) + 1)\n",
    "        for cycle in range(len(df)):\n",
    "            if(cycle == 0 or cycle == len(df)):\n",
    "                continue\n",
    "            diff=abs(df['capacity'][cycle]-df['capacity'][cycle-1])\n",
    "            if(abs(diff)>=0.1):\n",
    "                df['capacity'][cycle]=(df['capacity'][cycle+1]+df['capacity'][cycle-1])/2\n",
    "        df['SOH']=df['capacity']/nominal_capacity\n",
    "        df.drop(columns='capacity',inplace=True)\n",
    "        hust_data.append(df)"
   ]
  },
  {
   "cell_type": "code",
   "execution_count": 15,
   "id": "9fbf4d49",
   "metadata": {},
   "outputs": [
    {
     "data": {
      "text/plain": [
       "77"
      ]
     },
     "execution_count": 15,
     "metadata": {},
     "output_type": "execute_result"
    }
   ],
   "source": [
    "len(hust_data)"
   ]
  },
  {
   "cell_type": "code",
   "execution_count": 16,
   "id": "fd455b35",
   "metadata": {},
   "outputs": [
    {
     "name": "stdout",
     "output_type": "stream",
     "text": [
      "battery  1\n",
      "battery  2\n",
      "battery  3\n",
      "battery  4\n",
      "battery  5\n",
      "battery  6\n",
      "battery  1\n",
      "battery  2\n",
      "battery  3\n",
      "battery  1\n",
      "battery  2\n",
      "battery  3\n",
      "battery  1\n"
     ]
    }
   ],
   "source": [
    "from processing import getData\n",
    "_,_,test_data=getData()"
   ]
  },
  {
   "cell_type": "code",
   "execution_count": 17,
   "id": "d747532e",
   "metadata": {},
   "outputs": [
    {
     "data": {
      "text/plain": [
       "50"
      ]
     },
     "execution_count": 17,
     "metadata": {},
     "output_type": "execute_result"
    }
   ],
   "source": [
    "len(test_data)"
   ]
  },
  {
   "cell_type": "code",
   "execution_count": null,
   "id": "2f00bef0",
   "metadata": {},
   "outputs": [],
   "source": []
  }
 ],
 "metadata": {
  "kernelspec": {
   "display_name": "Python 3",
   "language": "python",
   "name": "python3"
  },
  "language_info": {
   "codemirror_mode": {
    "name": "ipython",
    "version": 3
   },
   "file_extension": ".py",
   "mimetype": "text/x-python",
   "name": "python",
   "nbconvert_exporter": "python",
   "pygments_lexer": "ipython3",
   "version": "3.12.3"
  }
 },
 "nbformat": 4,
 "nbformat_minor": 5
}
